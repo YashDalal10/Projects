{
 "cells": [
  {
   "cell_type": "code",
   "execution_count": 0,
   "metadata": {
    "colab": {},
    "colab_type": "code",
    "id": "AYKXf_punr0M"
   },
   "outputs": [],
   "source": [
    "#IMPORTING THE REQUIRED LIBRARIES\n",
    "import string\n",
    "import re\n",
    "from numpy import array, argmax, random, take\n",
    "import pandas as pd\n",
    "from tensorflow.python.keras.models import Sequential\n",
    "from tensorflow.python.keras.layers import Dense, LSTM, Embedding, RepeatVector, TimeDistributed, Attention\n",
    "from tensorflow.python.keras.preprocessing.text import Tokenizer\n",
    "from tensorflow.python.keras.callbacks import ModelCheckpoint\n",
    "from tensorflow.python.keras.preprocessing.sequence import pad_sequences\n",
    "from tensorflow.python.keras.models import load_model\n",
    "from tensorflow.keras import optimizers\n",
    "import matplotlib.pyplot as plt\n",
    "%matplotlib inline\n",
    "from google.colab import files\n",
    "from sklearn.model_selection import train_test_split"
   ]
  },
  {
   "cell_type": "code",
   "execution_count": 34,
   "metadata": {
    "colab": {
     "base_uri": "https://localhost:8080/",
     "height": 75,
     "resources": {
      "http://localhost:8080/nbextensions/google.colab/files.js": {
       "data": "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",
       "headers": [
        [
         "content-type",
         "application/javascript"
        ]
       ],
       "ok": true,
       "status": 200,
       "status_text": ""
      }
     }
    },
    "colab_type": "code",
    "id": "xNvhlS7CoZJQ",
    "outputId": "10933a8d-994a-4473-89f3-6515c1eda80f"
   },
   "outputs": [
    {
     "data": {
      "text/html": [
       "\n",
       "     <input type=\"file\" id=\"files-a1b319f8-b2ad-4006-85ed-0ad3a3be2789\" name=\"files[]\" multiple disabled />\n",
       "     <output id=\"result-a1b319f8-b2ad-4006-85ed-0ad3a3be2789\">\n",
       "      Upload widget is only available when the cell has been executed in the\n",
       "      current browser session. Please rerun this cell to enable.\n",
       "      </output>\n",
       "      <script src=\"/nbextensions/google.colab/files.js\"></script> "
      ],
      "text/plain": [
       "<IPython.core.display.HTML object>"
      ]
     },
     "metadata": {
      "tags": []
     },
     "output_type": "display_data"
    },
    {
     "name": "stdout",
     "output_type": "stream",
     "text": [
      "Saving Eng2Mar.txt to Eng2Mar.txt\n"
     ]
    }
   ],
   "source": [
    "file = files.upload()"
   ]
  },
  {
   "cell_type": "code",
   "execution_count": 0,
   "metadata": {
    "colab": {},
    "colab_type": "code",
    "id": "H1siD-ZnoUb1"
   },
   "outputs": [],
   "source": [
    "#FUNCTION TO READ THE FILE \n",
    "def read_text(filename):\n",
    "        file = open(filename, mode='rt', encoding='utf-8')\n",
    "        text = file.read()\n",
    "        file.close()\n",
    "        return text"
   ]
  },
  {
   "cell_type": "code",
   "execution_count": 0,
   "metadata": {
    "colab": {},
    "colab_type": "code",
    "id": "XXGrhSX7oqk7"
   },
   "outputs": [],
   "source": [
    "#SPLITTING THE SENTENCES ON THE BASIS OF ROWS\n",
    "def to_lines(text):\n",
    "      sents = text.strip().split('\\n')\n",
    "      sents = [i.split('\\t') for i in sents]\n",
    "      return sents"
   ]
  },
  {
   "cell_type": "code",
   "execution_count": 0,
   "metadata": {
    "colab": {},
    "colab_type": "code",
    "id": "cBkbhjvkotM6"
   },
   "outputs": [],
   "source": [
    "#READING THE SENTENCES AND CONVERTING THEM INTO ARRAY\n",
    "data = read_text(\"Eng2Mar.txt\")\n",
    "eng_mar = to_lines(data)\n",
    "eng_mar = array(eng_mar)"
   ]
  },
  {
   "cell_type": "code",
   "execution_count": 38,
   "metadata": {
    "colab": {
     "base_uri": "https://localhost:8080/",
     "height": 228
    },
    "colab_type": "code",
    "id": "AF_JP6UTo4An",
    "outputId": "00fae57d-f508-4351-ff00-f22287e0da7b"
   },
   "outputs": [
    {
     "data": {
      "text/plain": [
       "array([['Go.', 'जा.'],\n",
       "       ['Run!', 'पळ!'],\n",
       "       ['Run!', 'धाव!'],\n",
       "       ...,\n",
       "       ['Tom tried to sell his old VCR instead of throwing it away, but no one would buy it, so he ended up throwing it away.',\n",
       "        'टॉमने त्याचा जुना व्ही.सी.आर फेकून टाकण्याऐवजी विकून टाकण्याचा प्रयत्न केला, पण विकत घ्यायला कोणीच तयार नव्हतं, म्हणून त्याला तो शेवटी फेकूनच टाकायला लागला.'],\n",
       "       [\"You can't view Flash content on an iPad. However, you can easily email yourself the URLs of these web pages and view that content on your regular computer when you get home.\",\n",
       "        'आयपॅडवर फ्लॅश आशय बघता येत नाही. पण तुम्ही त्या वेब पानांचे यूआरएल स्वतःला ईमेल करून तोच आशय घरी पोहोचल्यावर आपल्या रोजच्या संगणकावर पाहू शकता.'],\n",
       "       ['In 1969, Roger Miller recorded a song called \"You Don\\'t Want My Love.\" Today, this song is better known as \"In the Summer Time.\" It\\'s the first song he wrote and sang that became popular.',\n",
       "        '१९६९मध्ये रॉजर मिलरने \"यू डोन्ट वॉन्ट माय लव्ह\" नावाचं गाणं रेकॉर्ड केलं. आज हे गाणं \"इन द समर टाइम\" म्हणून जास्त प्रसिद्ध आहे. त्याने लिहिलेलं व गायलेलं हे असं पहिलं गाणं होतं जे लोकप्रिय झालं.']],\n",
       "      dtype='<U194')"
      ]
     },
     "execution_count": 38,
     "metadata": {
      "tags": []
     },
     "output_type": "execute_result"
    }
   ],
   "source": [
    "eng_mar"
   ]
  },
  {
   "cell_type": "code",
   "execution_count": 0,
   "metadata": {
    "colab": {},
    "colab_type": "code",
    "id": "a6_YL9U-o5in"
   },
   "outputs": [],
   "source": [
    "eng_mar = eng_mar[:25000,:]   #taking first 25000 sentences"
   ]
  },
  {
   "cell_type": "code",
   "execution_count": 40,
   "metadata": {
    "colab": {
     "base_uri": "https://localhost:8080/",
     "height": 35
    },
    "colab_type": "code",
    "id": "Z-iSd9_JpDEy",
    "outputId": "9b88abfc-00cc-4b65-d4da-4bbbe9683b3e"
   },
   "outputs": [
    {
     "data": {
      "text/plain": [
       "(25000, 2)"
      ]
     },
     "execution_count": 40,
     "metadata": {
      "tags": []
     },
     "output_type": "execute_result"
    }
   ],
   "source": [
    "eng_mar.shape"
   ]
  },
  {
   "cell_type": "code",
   "execution_count": 41,
   "metadata": {
    "colab": {
     "base_uri": "https://localhost:8080/",
     "height": 156
    },
    "colab_type": "code",
    "id": "P9F1fNwipE7A",
    "outputId": "0f91df18-1e77-418f-9987-2750fa11eb87"
   },
   "outputs": [
    {
     "data": {
      "text/plain": [
       "array([['Go', 'जा'],\n",
       "       ['Run', 'पळ'],\n",
       "       ['Run', 'धाव'],\n",
       "       ...,\n",
       "       ['I forgot to send the letter', 'मी पत्र पाठवायला विसरले'],\n",
       "       ['I gave it to the little boy', 'मी ते त्या लहान मुलाला दिलं'],\n",
       "       ['I gave it to the little boy', 'मी ते लहान मुलाला सोपवलं']],\n",
       "      dtype='<U194')"
      ]
     },
     "execution_count": 41,
     "metadata": {
      "tags": []
     },
     "output_type": "execute_result"
    }
   ],
   "source": [
    "# Remove punctuation\n",
    "eng_mar[:,0] = [s.translate(str.maketrans('', '', string.punctuation)) for s in eng_mar[:,0]]\n",
    "eng_mar[:,1] = [s.translate(str.maketrans('', '', string.punctuation)) for s in eng_mar[:,1]]\n",
    "\n",
    "eng_mar"
   ]
  },
  {
   "cell_type": "code",
   "execution_count": 42,
   "metadata": {
    "colab": {
     "base_uri": "https://localhost:8080/",
     "height": 156
    },
    "colab_type": "code",
    "id": "jSM9_yxXpMhN",
    "outputId": "2d70f107-2403-4305-82d3-6125d19ea772"
   },
   "outputs": [
    {
     "data": {
      "text/plain": [
       "array([['go', 'जा'],\n",
       "       ['run', 'पळ'],\n",
       "       ['run', 'धाव'],\n",
       "       ...,\n",
       "       ['i forgot to send the letter', 'मी पत्र पाठवायला विसरले'],\n",
       "       ['i gave it to the little boy', 'मी ते त्या लहान मुलाला दिलं'],\n",
       "       ['i gave it to the little boy', 'मी ते लहान मुलाला सोपवलं']],\n",
       "      dtype='<U194')"
      ]
     },
     "execution_count": 42,
     "metadata": {
      "tags": []
     },
     "output_type": "execute_result"
    }
   ],
   "source": [
    "# convert text to lowercase\n",
    "for i in range(len(eng_mar)):\n",
    "    eng_mar[i,0] = eng_mar[i,0].lower()\n",
    "    eng_mar[i,1] = eng_mar[i,1].lower()\n",
    "\n",
    "eng_mar"
   ]
  },
  {
   "cell_type": "code",
   "execution_count": 43,
   "metadata": {
    "colab": {
     "base_uri": "https://localhost:8080/",
     "height": 299
    },
    "colab_type": "code",
    "id": "uB4lRyelpQhn",
    "outputId": "38dbeb58-3af3-457f-c976-2998a0dcf0e5"
   },
   "outputs": [
    {
     "data": {
      "image/png": "[encoded data removed]",
      "text/plain": [
       "<Figure size 432x288 with 2 Axes>"
      ]
     },
     "metadata": {
      "needs_background": "light",
      "tags": []
     },
     "output_type": "display_data"
    },
    {
     "data": {
      "text/plain": [
       "<Figure size 864x720 with 0 Axes>"
      ]
     },
     "metadata": {
      "tags": []
     },
     "output_type": "display_data"
    }
   ],
   "source": [
    "eng_l = []\n",
    "mar_l = []\n",
    "\n",
    "# populate the lists with sentence lengths\n",
    "for i in eng_mar[:,0]:\n",
    "      eng_l.append(len(i.split()))\n",
    "\n",
    "for i in eng_mar[:,1]:\n",
    "      mar_l.append(len(i.split()))\n",
    "\n",
    "length_df = pd.DataFrame({'eng':eng_l, 'mar':mar_l})\n",
    "\n",
    "length_df.hist(bins = 30)\n",
    "plt.figure(figsize=(12,10))\n",
    "plt.show()"
   ]
  },
  {
   "cell_type": "code",
   "execution_count": 0,
   "metadata": {
    "colab": {},
    "colab_type": "code",
    "id": "8zFqdKpYpUFJ"
   },
   "outputs": [],
   "source": [
    "# function to build a tokenizer\n",
    "def tokenization(lines):\n",
    "      tokenizer = Tokenizer()\n",
    "      tokenizer.fit_on_texts(lines)\n",
    "      return tokenizer"
   ]
  },
  {
   "cell_type": "code",
   "execution_count": 45,
   "metadata": {
    "colab": {
     "base_uri": "https://localhost:8080/",
     "height": 35
    },
    "colab_type": "code",
    "id": "4kkVTuJkpXH1",
    "outputId": "27d28bd9-a303-4106-d90f-73b208c7ee11"
   },
   "outputs": [
    {
     "name": "stdout",
     "output_type": "stream",
     "text": [
      "English Vocabulary Size: 3581\n"
     ]
    }
   ],
   "source": [
    "# prepare English tokenizer\n",
    "eng_tokenizer = tokenization(eng_mar[:, 0])\n",
    "eng_vocab_size = len(eng_tokenizer.word_index) + 1\n",
    "\n",
    "eng_length = 8\n",
    "print('English Vocabulary Size: %d' % eng_vocab_size)"
   ]
  },
  {
   "cell_type": "code",
   "execution_count": 46,
   "metadata": {
    "colab": {
     "base_uri": "https://localhost:8080/",
     "height": 35
    },
    "colab_type": "code",
    "id": "UpLCSP-MpZSX",
    "outputId": "2e3a0ce1-68f7-4b18-9d17-111f0c16ced8"
   },
   "outputs": [
    {
     "name": "stdout",
     "output_type": "stream",
     "text": [
      "Marathi Vocabulary Size: 7764\n"
     ]
    }
   ],
   "source": [
    "# prepare Marathi tokenizer\n",
    "mar_tokenizer = tokenization(eng_mar[:, 1])\n",
    "mar_vocab_size = len(mar_tokenizer.word_index) + 1\n",
    "\n",
    "mar_length = 10\n",
    "print('Marathi Vocabulary Size: %d' % mar_vocab_size)"
   ]
  },
  {
   "cell_type": "code",
   "execution_count": 0,
   "metadata": {
    "colab": {},
    "colab_type": "code",
    "id": "bPujaT3Hpb3b"
   },
   "outputs": [],
   "source": [
    "# encode and pad sequences\n",
    "def encode_sequences(tokenizer, length, lines):\n",
    "         seq = tokenizer.texts_to_sequences(lines)\n",
    "         seq = pad_sequences(seq, maxlen=length, padding='post')\n",
    "         return seq"
   ]
  },
  {
   "cell_type": "code",
   "execution_count": 0,
   "metadata": {
    "colab": {},
    "colab_type": "code",
    "id": "3QDQas2Dpd-i"
   },
   "outputs": [],
   "source": [
    "# split data into train and test set\n",
    "train1, test1 = train_test_split(eng_mar, test_size=0.1, random_state = 1)"
   ]
  },
  {
   "cell_type": "markdown",
   "metadata": {
    "colab_type": "text",
    "id": "IdxPlgEeTQrI"
   },
   "source": [
    "**English to Marathi Machine Translation Model**"
   ]
  },
  {
   "cell_type": "code",
   "execution_count": 0,
   "metadata": {
    "colab": {},
    "colab_type": "code",
    "id": "KCWKsw4Xpf9H"
   },
   "outputs": [],
   "source": [
    "# prepare training data with English sentences as input and Marathi sentences as output\n",
    "trainX1 = encode_sequences(eng_tokenizer, eng_length, train1[:, 0])\n",
    "trainY1 = encode_sequences(mar_tokenizer, mar_length, train1[:, 1])\n",
    "\n",
    "# prepare validation data\n",
    "testX1 = encode_sequences(eng_tokenizer, eng_length, test1[:, 0])\n",
    "testY1 = encode_sequences(mar_tokenizer, mar_length, test1[:, 1])"
   ]
  },
  {
   "cell_type": "code",
   "execution_count": 0,
   "metadata": {
    "colab": {},
    "colab_type": "code",
    "id": "bu0vx_IrpitY"
   },
   "outputs": [],
   "source": [
    "# building encoder decoder model\n",
    "# in_timesteps = length of english words\n",
    "# out_timesteps = length of marathi words\n",
    "# mask_zero = True as we have used post seq padding which is to be ignored.\n",
    "# Repeat vector will repeat the input n no of times\n",
    "def define_model(in_vocab,out_vocab, in_timesteps,out_timesteps,units):\n",
    "      model = Sequential()\n",
    "      model.add(Embedding(in_vocab, units, input_length=in_timesteps, mask_zero=True))\n",
    "      model.add(LSTM(units))\n",
    "      model.add(RepeatVector(out_timesteps))\n",
    "      model.add(LSTM(units, return_sequences=True))\n",
    "      model.add(TimeDistributed(Dense(out_vocab, activation='softmax')))\n",
    "      return model"
   ]
  },
  {
   "cell_type": "code",
   "execution_count": 0,
   "metadata": {
    "colab": {},
    "colab_type": "code",
    "id": "tzA8DMJppl4i"
   },
   "outputs": [],
   "source": [
    "model1 = define_model(eng_vocab_size, mar_vocab_size, eng_length, mar_length, 512)"
   ]
  },
  {
   "cell_type": "code",
   "execution_count": 0,
   "metadata": {
    "colab": {},
    "colab_type": "code",
    "id": "ge3SRN2hpomw"
   },
   "outputs": [],
   "source": [
    "rms = optimizers.RMSprop(lr=0.001)\n",
    "model1.compile(optimizer=rms, loss='sparse_categorical_crossentropy')"
   ]
  },
  {
   "cell_type": "code",
   "execution_count": 53,
   "metadata": {
    "colab": {
     "base_uri": "https://localhost:8080/",
     "height": 1000
    },
    "colab_type": "code",
    "id": "10ODcgNHp8-t",
    "outputId": "289f0012-60b1-4021-98e6-b875810129e6"
   },
   "outputs": [
    {
     "name": "stdout",
     "output_type": "stream",
     "text": [
      "Epoch 1/50\n",
      "39/40 [============================>.] - ETA: 0s - loss: 3.5621\n",
      "Epoch 00001: val_loss improved from inf to 2.75591, saving model to model1.h5\n",
      "40/40 [==============================] - 5s 121ms/step - loss: 3.5411 - val_loss: 2.7559\n",
      "Epoch 2/50\n",
      "40/40 [==============================] - ETA: 0s - loss: 2.7076\n",
      "Epoch 00002: val_loss improved from 2.75591 to 2.70034, saving model to model1.h5\n",
      "40/40 [==============================] - 3s 82ms/step - loss: 2.7076 - val_loss: 2.7003\n",
      "Epoch 3/50\n",
      "39/40 [============================>.] - ETA: 0s - loss: 2.6056\n",
      "Epoch 00003: val_loss improved from 2.70034 to 2.62974, saving model to model1.h5\n",
      "40/40 [==============================] - 3s 83ms/step - loss: 2.6042 - val_loss: 2.6297\n",
      "Epoch 4/50\n",
      "39/40 [============================>.] - ETA: 0s - loss: 2.5313\n",
      "Epoch 00004: val_loss improved from 2.62974 to 2.57114, saving model to model1.h5\n",
      "40/40 [==============================] - 3s 85ms/step - loss: 2.5298 - val_loss: 2.5711\n",
      "Epoch 5/50\n",
      "39/40 [============================>.] - ETA: 0s - loss: 2.4646\n",
      "Epoch 00005: val_loss improved from 2.57114 to 2.52020, saving model to model1.h5\n",
      "40/40 [==============================] - 3s 83ms/step - loss: 2.4643 - val_loss: 2.5202\n",
      "Epoch 6/50\n",
      "40/40 [==============================] - ETA: 0s - loss: 2.3735\n",
      "Epoch 00006: val_loss improved from 2.52020 to 2.45610, saving model to model1.h5\n",
      "40/40 [==============================] - 3s 85ms/step - loss: 2.3735 - val_loss: 2.4561\n",
      "Epoch 7/50\n",
      "40/40 [==============================] - ETA: 0s - loss: 2.3046\n",
      "Epoch 00007: val_loss improved from 2.45610 to 2.40411, saving model to model1.h5\n",
      "40/40 [==============================] - 3s 84ms/step - loss: 2.3046 - val_loss: 2.4041\n",
      "Epoch 8/50\n",
      "40/40 [==============================] - ETA: 0s - loss: 2.2180\n",
      "Epoch 00008: val_loss improved from 2.40411 to 2.30550, saving model to model1.h5\n",
      "40/40 [==============================] - 3s 85ms/step - loss: 2.2180 - val_loss: 2.3055\n",
      "Epoch 9/50\n",
      "39/40 [============================>.] - ETA: 0s - loss: 2.1052\n",
      "Epoch 00009: val_loss improved from 2.30550 to 2.22731, saving model to model1.h5\n",
      "40/40 [==============================] - 3s 82ms/step - loss: 2.1057 - val_loss: 2.2273\n",
      "Epoch 10/50\n",
      "40/40 [==============================] - ETA: 0s - loss: 1.9907\n",
      "Epoch 00010: val_loss improved from 2.22731 to 2.15101, saving model to model1.h5\n",
      "40/40 [==============================] - 3s 83ms/step - loss: 1.9907 - val_loss: 2.1510\n",
      "Epoch 11/50\n",
      "39/40 [============================>.] - ETA: 0s - loss: 1.8861\n",
      "Epoch 00011: val_loss improved from 2.15101 to 2.06032, saving model to model1.h5\n",
      "40/40 [==============================] - 3s 84ms/step - loss: 1.8868 - val_loss: 2.0603\n",
      "Epoch 12/50\n",
      "39/40 [============================>.] - ETA: 0s - loss: 1.7817\n",
      "Epoch 00012: val_loss improved from 2.06032 to 2.03158, saving model to model1.h5\n",
      "40/40 [==============================] - 3s 84ms/step - loss: 1.7818 - val_loss: 2.0316\n",
      "Epoch 13/50\n",
      "39/40 [============================>.] - ETA: 0s - loss: 1.6895\n",
      "Epoch 00013: val_loss improved from 2.03158 to 1.93965, saving model to model1.h5\n",
      "40/40 [==============================] - 3s 83ms/step - loss: 1.6910 - val_loss: 1.9396\n",
      "Epoch 14/50\n",
      "40/40 [==============================] - ETA: 0s - loss: 1.6007\n",
      "Epoch 00014: val_loss improved from 1.93965 to 1.90003, saving model to model1.h5\n",
      "40/40 [==============================] - 3s 83ms/step - loss: 1.6007 - val_loss: 1.9000\n",
      "Epoch 15/50\n",
      "39/40 [============================>.] - ETA: 0s - loss: 1.5234\n",
      "Epoch 00015: val_loss improved from 1.90003 to 1.84401, saving model to model1.h5\n",
      "40/40 [==============================] - 3s 83ms/step - loss: 1.5239 - val_loss: 1.8440\n",
      "Epoch 16/50\n",
      "39/40 [============================>.] - ETA: 0s - loss: 1.4433\n",
      "Epoch 00016: val_loss improved from 1.84401 to 1.79750, saving model to model1.h5\n",
      "40/40 [==============================] - 3s 83ms/step - loss: 1.4427 - val_loss: 1.7975\n",
      "Epoch 17/50\n",
      "40/40 [==============================] - ETA: 0s - loss: 1.3720\n",
      "Epoch 00017: val_loss improved from 1.79750 to 1.74114, saving model to model1.h5\n",
      "40/40 [==============================] - 3s 83ms/step - loss: 1.3720 - val_loss: 1.7411\n",
      "Epoch 18/50\n",
      "39/40 [============================>.] - ETA: 0s - loss: 1.2960\n",
      "Epoch 00018: val_loss improved from 1.74114 to 1.72288, saving model to model1.h5\n",
      "40/40 [==============================] - 3s 85ms/step - loss: 1.2975 - val_loss: 1.7229\n",
      "Epoch 19/50\n",
      "39/40 [============================>.] - ETA: 0s - loss: 1.2299\n",
      "Epoch 00019: val_loss improved from 1.72288 to 1.66736, saving model to model1.h5\n",
      "40/40 [==============================] - 3s 83ms/step - loss: 1.2298 - val_loss: 1.6674\n",
      "Epoch 20/50\n",
      "39/40 [============================>.] - ETA: 0s - loss: 1.1612\n",
      "Epoch 00020: val_loss improved from 1.66736 to 1.64897, saving model to model1.h5\n",
      "40/40 [==============================] - 3s 83ms/step - loss: 1.1623 - val_loss: 1.6490\n",
      "Epoch 21/50\n",
      "39/40 [============================>.] - ETA: 0s - loss: 1.0969\n",
      "Epoch 00021: val_loss improved from 1.64897 to 1.59493, saving model to model1.h5\n",
      "40/40 [==============================] - 3s 84ms/step - loss: 1.0984 - val_loss: 1.5949\n",
      "Epoch 22/50\n",
      "39/40 [============================>.] - ETA: 0s - loss: 1.0341\n",
      "Epoch 00022: val_loss improved from 1.59493 to 1.56804, saving model to model1.h5\n",
      "40/40 [==============================] - 3s 84ms/step - loss: 1.0348 - val_loss: 1.5680\n",
      "Epoch 23/50\n",
      "40/40 [==============================] - ETA: 0s - loss: 0.9813\n",
      "Epoch 00023: val_loss improved from 1.56804 to 1.53105, saving model to model1.h5\n",
      "40/40 [==============================] - 3s 83ms/step - loss: 0.9813 - val_loss: 1.5310\n",
      "Epoch 24/50\n",
      "39/40 [============================>.] - ETA: 0s - loss: 0.9206\n",
      "Epoch 00024: val_loss improved from 1.53105 to 1.50758, saving model to model1.h5\n",
      "40/40 [==============================] - 3s 84ms/step - loss: 0.9213 - val_loss: 1.5076\n",
      "Epoch 25/50\n",
      "40/40 [==============================] - ETA: 0s - loss: 0.8723\n",
      "Epoch 00025: val_loss improved from 1.50758 to 1.49862, saving model to model1.h5\n",
      "40/40 [==============================] - 3s 82ms/step - loss: 0.8723 - val_loss: 1.4986\n",
      "Epoch 26/50\n",
      "40/40 [==============================] - ETA: 0s - loss: 0.8197\n",
      "Epoch 00026: val_loss improved from 1.49862 to 1.45640, saving model to model1.h5\n",
      "40/40 [==============================] - 3s 84ms/step - loss: 0.8197 - val_loss: 1.4564\n",
      "Epoch 27/50\n",
      "39/40 [============================>.] - ETA: 0s - loss: 0.7704\n",
      "Epoch 00027: val_loss did not improve from 1.45640\n",
      "40/40 [==============================] - 3s 79ms/step - loss: 0.7714 - val_loss: 1.4589\n",
      "Epoch 28/50\n",
      "39/40 [============================>.] - ETA: 0s - loss: 0.7275\n",
      "Epoch 00028: val_loss improved from 1.45640 to 1.42050, saving model to model1.h5\n",
      "40/40 [==============================] - 3s 83ms/step - loss: 0.7288 - val_loss: 1.4205\n",
      "Epoch 29/50\n",
      "40/40 [==============================] - ETA: 0s - loss: 0.6879\n",
      "Epoch 00029: val_loss did not improve from 1.42050\n",
      "40/40 [==============================] - 3s 79ms/step - loss: 0.6879 - val_loss: 1.4210\n",
      "Epoch 30/50\n",
      "39/40 [============================>.] - ETA: 0s - loss: 0.6423\n",
      "Epoch 00030: val_loss improved from 1.42050 to 1.38747, saving model to model1.h5\n",
      "40/40 [==============================] - 3s 82ms/step - loss: 0.6436 - val_loss: 1.3875\n",
      "Epoch 31/50\n",
      "39/40 [============================>.] - ETA: 0s - loss: 0.6094\n",
      "Epoch 00031: val_loss improved from 1.38747 to 1.35797, saving model to model1.h5\n",
      "40/40 [==============================] - 3s 83ms/step - loss: 0.6099 - val_loss: 1.3580\n",
      "Epoch 32/50\n",
      "40/40 [==============================] - ETA: 0s - loss: 0.5731\n",
      "Epoch 00032: val_loss improved from 1.35797 to 1.34536, saving model to model1.h5\n",
      "40/40 [==============================] - 3s 83ms/step - loss: 0.5731 - val_loss: 1.3454\n",
      "Epoch 33/50\n",
      "39/40 [============================>.] - ETA: 0s - loss: 0.5394\n",
      "Epoch 00033: val_loss improved from 1.34536 to 1.33109, saving model to model1.h5\n",
      "40/40 [==============================] - 3s 83ms/step - loss: 0.5393 - val_loss: 1.3311\n",
      "Epoch 34/50\n",
      "40/40 [==============================] - ETA: 0s - loss: 0.5107\n",
      "Epoch 00034: val_loss improved from 1.33109 to 1.32494, saving model to model1.h5\n",
      "40/40 [==============================] - 3s 83ms/step - loss: 0.5107 - val_loss: 1.3249\n",
      "Epoch 35/50\n",
      "39/40 [============================>.] - ETA: 0s - loss: 0.4777\n",
      "Epoch 00035: val_loss did not improve from 1.32494\n",
      "40/40 [==============================] - 3s 79ms/step - loss: 0.4792 - val_loss: 1.3259\n",
      "Epoch 36/50\n",
      "39/40 [============================>.] - ETA: 0s - loss: 0.4521\n",
      "Epoch 00036: val_loss improved from 1.32494 to 1.32375, saving model to model1.h5\n",
      "40/40 [==============================] - 3s 82ms/step - loss: 0.4541 - val_loss: 1.3238\n",
      "Epoch 37/50\n",
      "39/40 [============================>.] - ETA: 0s - loss: 0.4271\n",
      "Epoch 00037: val_loss improved from 1.32375 to 1.29368, saving model to model1.h5\n",
      "40/40 [==============================] - 3s 84ms/step - loss: 0.4263 - val_loss: 1.2937\n",
      "Epoch 38/50\n",
      "40/40 [==============================] - ETA: 0s - loss: 0.4029\n",
      "Epoch 00038: val_loss improved from 1.29368 to 1.29143, saving model to model1.h5\n",
      "40/40 [==============================] - 3s 83ms/step - loss: 0.4029 - val_loss: 1.2914\n",
      "Epoch 39/50\n",
      "39/40 [============================>.] - ETA: 0s - loss: 0.3833\n",
      "Epoch 00039: val_loss improved from 1.29143 to 1.28019, saving model to model1.h5\n",
      "40/40 [==============================] - 3s 84ms/step - loss: 0.3830 - val_loss: 1.2802\n",
      "Epoch 40/50\n",
      "39/40 [============================>.] - ETA: 0s - loss: 0.3601\n",
      "Epoch 00040: val_loss did not improve from 1.28019\n",
      "40/40 [==============================] - 3s 78ms/step - loss: 0.3611 - val_loss: 1.3050\n",
      "Epoch 41/50\n",
      "39/40 [============================>.] - ETA: 0s - loss: 0.3437\n",
      "Epoch 00041: val_loss improved from 1.28019 to 1.27284, saving model to model1.h5\n",
      "40/40 [==============================] - 3s 82ms/step - loss: 0.3440 - val_loss: 1.2728\n",
      "Epoch 42/50\n",
      "39/40 [============================>.] - ETA: 0s - loss: 0.3257\n",
      "Epoch 00042: val_loss did not improve from 1.27284\n",
      "40/40 [==============================] - 3s 79ms/step - loss: 0.3256 - val_loss: 1.2743\n",
      "Epoch 43/50\n",
      "40/40 [==============================] - ETA: 0s - loss: 0.3096\n",
      "Epoch 00043: val_loss did not improve from 1.27284\n",
      "40/40 [==============================] - 3s 78ms/step - loss: 0.3096 - val_loss: 1.2841\n",
      "Epoch 44/50\n",
      "39/40 [============================>.] - ETA: 0s - loss: 0.2944\n",
      "Epoch 00044: val_loss did not improve from 1.27284\n",
      "40/40 [==============================] - 3s 78ms/step - loss: 0.2949 - val_loss: 1.2779\n",
      "Epoch 45/50\n",
      "39/40 [============================>.] - ETA: 0s - loss: 0.2808\n",
      "Epoch 00045: val_loss did not improve from 1.27284\n",
      "40/40 [==============================] - 3s 78ms/step - loss: 0.2809 - val_loss: 1.2958\n",
      "Epoch 46/50\n",
      "39/40 [============================>.] - ETA: 0s - loss: 0.2713\n",
      "Epoch 00046: val_loss improved from 1.27284 to 1.27169, saving model to model1.h5\n",
      "40/40 [==============================] - 3s 82ms/step - loss: 0.2716 - val_loss: 1.2717\n",
      "Epoch 47/50\n",
      "39/40 [============================>.] - ETA: 0s - loss: 0.2543\n",
      "Epoch 00047: val_loss did not improve from 1.27169\n",
      "40/40 [==============================] - 3s 79ms/step - loss: 0.2550 - val_loss: 1.2870\n",
      "Epoch 48/50\n",
      "39/40 [============================>.] - ETA: 0s - loss: 0.2463\n",
      "Epoch 00048: val_loss did not improve from 1.27169\n",
      "40/40 [==============================] - 3s 78ms/step - loss: 0.2463 - val_loss: 1.2843\n",
      "Epoch 49/50\n",
      "39/40 [============================>.] - ETA: 0s - loss: 0.2386\n",
      "Epoch 00049: val_loss did not improve from 1.27169\n",
      "40/40 [==============================] - 3s 78ms/step - loss: 0.2389 - val_loss: 1.2779\n",
      "Epoch 50/50\n",
      "39/40 [============================>.] - ETA: 0s - loss: 0.2290\n",
      "Epoch 00050: val_loss did not improve from 1.27169\n",
      "40/40 [==============================] - 3s 78ms/step - loss: 0.2293 - val_loss: 1.2801\n"
     ]
    }
   ],
   "source": [
    "filename = 'model1.h5'\n",
    "checkpoint = ModelCheckpoint(filename, monitor='val_loss', verbose=1, save_best_only=True, mode='min')\n",
    "\n",
    "history = model1.fit(trainX1, trainY1.reshape(trainY1.shape[0], trainY1.shape[1], 1),\n",
    "                    epochs=50, batch_size=512, validation_split = 0.1,callbacks=[checkpoint], \n",
    "                    verbose=1)"
   ]
  },
  {
   "cell_type": "code",
   "execution_count": 54,
   "metadata": {
    "colab": {
     "base_uri": "https://localhost:8080/",
     "height": 265
    },
    "colab_type": "code",
    "id": "uRbrU0q-qCwI",
    "outputId": "0d25acbc-8454-4321-a4a5-c4ed6e3992c8"
   },
   "outputs": [
    {
     "data": {
      "image/png": "[encoded data removed]",
      "text/plain": [
       "<Figure size 432x288 with 1 Axes>"
      ]
     },
     "metadata": {
      "needs_background": "light",
      "tags": []
     },
     "output_type": "display_data"
    }
   ],
   "source": [
    "plt.plot(history.history['loss'])\n",
    "plt.plot(history.history['val_loss'])\n",
    "plt.legend(['train','validation'])\n",
    "plt.show()"
   ]
  },
  {
   "cell_type": "code",
   "execution_count": 0,
   "metadata": {
    "colab": {},
    "colab_type": "code",
    "id": "ld8MZtVtqQL8"
   },
   "outputs": [],
   "source": [
    "model1 = load_model('/content/model1.h5')"
   ]
  },
  {
   "cell_type": "code",
   "execution_count": 0,
   "metadata": {
    "colab": {},
    "colab_type": "code",
    "id": "IQt5VQk-PWlC"
   },
   "outputs": [],
   "source": [
    "preds = model1.predict_classes(testX1.reshape((testX1.shape[0],testX1.shape[1])))"
   ]
  },
  {
   "cell_type": "code",
   "execution_count": 0,
   "metadata": {
    "colab": {},
    "colab_type": "code",
    "id": "MTe8sBa0tEqF"
   },
   "outputs": [],
   "source": [
    "def get_word(n, tokenizer):\n",
    "      for word, index in tokenizer.word_index.items():\n",
    "          if index == n:\n",
    "              return word\n",
    "      return None"
   ]
  },
  {
   "cell_type": "code",
   "execution_count": 0,
   "metadata": {
    "colab": {},
    "colab_type": "code",
    "id": "1jHelvFTtMHV"
   },
   "outputs": [],
   "source": [
    "preds_text1 = []\n",
    "for i in preds:\n",
    "       temp = []\n",
    "       for j in range(len(i)):\n",
    "            t = get_word(i[j], mar_tokenizer)\n",
    "            if j > 0:\n",
    "                if (t == get_word(i[j-1], mar_tokenizer)) or (t == None):\n",
    "                     temp.append('')\n",
    "                else:\n",
    "                     temp.append(t)\n",
    "            else:\n",
    "                   if(t == None):\n",
    "                          temp.append('')\n",
    "                   else:\n",
    "                          temp.append(t) \n",
    "\n",
    "       preds_text1.append(' '.join(temp))"
   ]
  },
  {
   "cell_type": "code",
   "execution_count": 0,
   "metadata": {
    "colab": {},
    "colab_type": "code",
    "id": "3VP_oTxJtPW1"
   },
   "outputs": [],
   "source": [
    "pred_df1 = pd.DataFrame({'English': test1[:,0], 'Actual' : test1[:,1], 'Predicted' : preds_text1})"
   ]
  },
  {
   "cell_type": "code",
   "execution_count": 61,
   "metadata": {
    "colab": {
     "base_uri": "https://localhost:8080/",
     "height": 355
    },
    "colab_type": "code",
    "id": "6ZdYYyJvtRlj",
    "outputId": "afbf76ce-9d85-43a4-f70e-5c77a57a9bda"
   },
   "outputs": [
    {
     "data": {
      "text/html": [
       "<div>\n",
       "<style scoped>\n",
       "    .dataframe tbody tr th:only-of-type {\n",
       "        vertical-align: middle;\n",
       "    }\n",
       "\n",
       "    .dataframe tbody tr th {\n",
       "        vertical-align: top;\n",
       "    }\n",
       "\n",
       "    .dataframe thead th {\n",
       "        text-align: right;\n",
       "    }\n",
       "</style>\n",
       "<table border=\"1\" class=\"dataframe\">\n",
       "  <thead>\n",
       "    <tr style=\"text-align: right;\">\n",
       "      <th></th>\n",
       "      <th>English</th>\n",
       "      <th>Actual</th>\n",
       "      <th>Predicted</th>\n",
       "    </tr>\n",
       "  </thead>\n",
       "  <tbody>\n",
       "    <tr>\n",
       "      <th>685</th>\n",
       "      <td>its not anybodys fault</td>\n",
       "      <td>कोणाचीच चूक नाहीये</td>\n",
       "      <td>कोणाचीही चूक नाहीये</td>\n",
       "    </tr>\n",
       "    <tr>\n",
       "      <th>1338</th>\n",
       "      <td>its me</td>\n",
       "      <td>मी आहे</td>\n",
       "      <td>मी आहे</td>\n",
       "    </tr>\n",
       "    <tr>\n",
       "      <th>818</th>\n",
       "      <td>we still need your help</td>\n",
       "      <td>आम्हाला अजूनही तुझ्या मदतीची गरज आहे</td>\n",
       "      <td>आम्हाला अजूनही मदतीची  गरज आहे</td>\n",
       "    </tr>\n",
       "    <tr>\n",
       "      <th>103</th>\n",
       "      <td>take my handkerchief</td>\n",
       "      <td>माझा रुमाल घ्या</td>\n",
       "      <td>माझा रुमाल घे</td>\n",
       "    </tr>\n",
       "    <tr>\n",
       "      <th>1070</th>\n",
       "      <td>did anyone say anything</td>\n",
       "      <td>अजून कोणी काही म्हटलं का</td>\n",
       "      <td>कोणी  बघितलं का</td>\n",
       "    </tr>\n",
       "    <tr>\n",
       "      <th>887</th>\n",
       "      <td>we have one more year</td>\n",
       "      <td>आपल्याकडे अजून एक वर्ष आहे</td>\n",
       "      <td>आपल्याला अजून एक वर्ष आहे</td>\n",
       "    </tr>\n",
       "    <tr>\n",
       "      <th>1391</th>\n",
       "      <td>tom talked</td>\n",
       "      <td>टॉम बोलला</td>\n",
       "      <td>टॉम रडला</td>\n",
       "    </tr>\n",
       "    <tr>\n",
       "      <th>2176</th>\n",
       "      <td>do you hear me</td>\n",
       "      <td>तुम्हाला मी ऐकू येतोय का</td>\n",
       "      <td>तुम्हाला मी ऐकू येतेय का</td>\n",
       "    </tr>\n",
       "    <tr>\n",
       "      <th>1996</th>\n",
       "      <td>its not tom</td>\n",
       "      <td>टॉम नाहीये</td>\n",
       "      <td>टॉम नाहीये</td>\n",
       "    </tr>\n",
       "    <tr>\n",
       "      <th>1907</th>\n",
       "      <td>try again</td>\n",
       "      <td>पुन्हा प्रयत्न करा</td>\n",
       "      <td>पुन्हा प्रयत्न कर</td>\n",
       "    </tr>\n",
       "  </tbody>\n",
       "</table>\n",
       "</div>"
      ],
      "text/plain": [
       "                      English  ...                           Predicted\n",
       "685    its not anybodys fault  ...          कोणाचीही चूक नाहीये       \n",
       "1338                   its me  ...                      मी आहे        \n",
       "818   we still need your help  ...  आम्हाला अजूनही मदतीची  गरज आहे    \n",
       "103      take my handkerchief  ...                माझा रुमाल घे       \n",
       "1070  did anyone say anything  ...               कोणी  बघितलं का      \n",
       "887     we have one more year  ...      आपल्याला अजून एक वर्ष आहे     \n",
       "1391               tom talked  ...                    टॉम रडला        \n",
       "2176           do you hear me  ...       तुम्हाला मी ऐकू येतेय का     \n",
       "1996              its not tom  ...                  टॉम नाहीये        \n",
       "1907                try again  ...            पुन्हा प्रयत्न कर       \n",
       "\n",
       "[10 rows x 3 columns]"
      ]
     },
     "execution_count": 61,
     "metadata": {
      "tags": []
     },
     "output_type": "execute_result"
    }
   ],
   "source": [
    "pred_df1.sample(10)"
   ]
  },
  {
   "cell_type": "markdown",
   "metadata": {
    "colab_type": "text",
    "id": "d-ekQLHzUupX"
   },
   "source": [
    "**Marathi to English Machine Translation Model**"
   ]
  },
  {
   "cell_type": "code",
   "execution_count": 0,
   "metadata": {
    "colab": {},
    "colab_type": "code",
    "id": "YT8hGzMPtvZ-"
   },
   "outputs": [],
   "source": [
    "# prepare training data for Marathi sentences as input and English sentences as output\n",
    "trainX2 = encode_sequences(mar_tokenizer, mar_length, train1[:, 1])\n",
    "trainY2 = encode_sequences(eng_tokenizer, eng_length, train1[:, 0])\n",
    "\n",
    "# prepare validation data\n",
    "testX2 = encode_sequences(mar_tokenizer, mar_length, test1[:, 1])\n",
    "testY2 = encode_sequences(eng_tokenizer, eng_length, test1[:, 0])"
   ]
  },
  {
   "cell_type": "code",
   "execution_count": 0,
   "metadata": {
    "colab": {},
    "colab_type": "code",
    "id": "NrumRfwQvRzt"
   },
   "outputs": [],
   "source": [
    "# def define_model(in_vocab,out_vocab, in_timesteps,out_timesteps,units):\n",
    "#       model = Sequential()\n",
    "#       model.add(Embedding(in_vocab, units, input_length=in_timesteps, mask_zero=True))\n",
    "#       model.add(LSTM(units))\n",
    "#       model.add(RepeatVector(out_timesteps))\n",
    "#       model.add(LSTM(units, return_sequences=True))\n",
    "#       model.add(TimeDistributed(Dense(out_vocab, activation='softmax')))\n",
    "#       return model\n",
    "\n",
    "#The code has been commented as the architecture of the model is the same"
   ]
  },
  {
   "cell_type": "code",
   "execution_count": 0,
   "metadata": {
    "colab": {},
    "colab_type": "code",
    "id": "O8kMvXo9ArFQ"
   },
   "outputs": [],
   "source": [
    "# model compilation\n",
    "model2 = define_model(mar_vocab_size, eng_vocab_size, mar_length, eng_length, 512)"
   ]
  },
  {
   "cell_type": "code",
   "execution_count": 0,
   "metadata": {
    "colab": {},
    "colab_type": "code",
    "id": "6OD1PiAMBbjQ"
   },
   "outputs": [],
   "source": [
    "rms = optimizers.RMSprop(lr=0.001)\n",
    "model2.compile(optimizer=rms, loss='sparse_categorical_crossentropy')"
   ]
  },
  {
   "cell_type": "code",
   "execution_count": 66,
   "metadata": {
    "colab": {
     "base_uri": "https://localhost:8080/",
     "height": 1000
    },
    "colab_type": "code",
    "id": "GC0oliq2BiN4",
    "outputId": "7dba322f-43b4-4bff-d6a3-adae8ed96f2b"
   },
   "outputs": [
    {
     "name": "stdout",
     "output_type": "stream",
     "text": [
      "Epoch 1/50\n",
      "40/40 [==============================] - ETA: 0s - loss: 4.0199\n",
      "Epoch 00001: val_loss improved from inf to 3.26471, saving model to model2.h5\n",
      "40/40 [==============================] - 5s 118ms/step - loss: 4.0199 - val_loss: 3.2647\n",
      "Epoch 2/50\n",
      "40/40 [==============================] - ETA: 0s - loss: 3.2213\n",
      "Epoch 00002: val_loss improved from 3.26471 to 3.13420, saving model to model2.h5\n",
      "40/40 [==============================] - 3s 76ms/step - loss: 3.2213 - val_loss: 3.1342\n",
      "Epoch 3/50\n",
      "40/40 [==============================] - ETA: 0s - loss: 3.0909\n",
      "Epoch 00003: val_loss improved from 3.13420 to 3.07388, saving model to model2.h5\n",
      "40/40 [==============================] - 3s 78ms/step - loss: 3.0909 - val_loss: 3.0739\n",
      "Epoch 4/50\n",
      "39/40 [============================>.] - ETA: 0s - loss: 2.9803\n",
      "Epoch 00004: val_loss improved from 3.07388 to 2.94440, saving model to model2.h5\n",
      "40/40 [==============================] - 3s 79ms/step - loss: 2.9754 - val_loss: 2.9444\n",
      "Epoch 5/50\n",
      "40/40 [==============================] - ETA: 0s - loss: 2.8329\n",
      "Epoch 00005: val_loss improved from 2.94440 to 2.83698, saving model to model2.h5\n",
      "40/40 [==============================] - 3s 76ms/step - loss: 2.8329 - val_loss: 2.8370\n",
      "Epoch 6/50\n",
      "40/40 [==============================] - ETA: 0s - loss: 2.6902\n",
      "Epoch 00006: val_loss improved from 2.83698 to 2.78709, saving model to model2.h5\n",
      "40/40 [==============================] - 3s 80ms/step - loss: 2.6902 - val_loss: 2.7871\n",
      "Epoch 7/50\n",
      "39/40 [============================>.] - ETA: 0s - loss: 2.5455\n",
      "Epoch 00007: val_loss improved from 2.78709 to 2.65300, saving model to model2.h5\n",
      "40/40 [==============================] - 3s 77ms/step - loss: 2.5468 - val_loss: 2.6530\n",
      "Epoch 8/50\n",
      "40/40 [==============================] - ETA: 0s - loss: 2.4026\n",
      "Epoch 00008: val_loss improved from 2.65300 to 2.52631, saving model to model2.h5\n",
      "40/40 [==============================] - 3s 80ms/step - loss: 2.4026 - val_loss: 2.5263\n",
      "Epoch 9/50\n",
      "40/40 [==============================] - ETA: 0s - loss: 2.2661\n",
      "Epoch 00009: val_loss improved from 2.52631 to 2.40347, saving model to model2.h5\n",
      "40/40 [==============================] - 3s 76ms/step - loss: 2.2661 - val_loss: 2.4035\n",
      "Epoch 10/50\n",
      "39/40 [============================>.] - ETA: 0s - loss: 2.1306\n",
      "Epoch 00010: val_loss improved from 2.40347 to 2.30107, saving model to model2.h5\n",
      "40/40 [==============================] - 3s 79ms/step - loss: 2.1269 - val_loss: 2.3011\n",
      "Epoch 11/50\n",
      "39/40 [============================>.] - ETA: 0s - loss: 1.9980\n",
      "Epoch 00011: val_loss improved from 2.30107 to 2.25760, saving model to model2.h5\n",
      "40/40 [==============================] - 3s 77ms/step - loss: 1.9987 - val_loss: 2.2576\n",
      "Epoch 12/50\n",
      "40/40 [==============================] - ETA: 0s - loss: 1.8731\n",
      "Epoch 00012: val_loss improved from 2.25760 to 2.18913, saving model to model2.h5\n",
      "40/40 [==============================] - 3s 79ms/step - loss: 1.8731 - val_loss: 2.1891\n",
      "Epoch 13/50\n",
      "40/40 [==============================] - ETA: 0s - loss: 1.7601\n",
      "Epoch 00013: val_loss improved from 2.18913 to 2.09799, saving model to model2.h5\n",
      "40/40 [==============================] - 3s 77ms/step - loss: 1.7601 - val_loss: 2.0980\n",
      "Epoch 14/50\n",
      "40/40 [==============================] - ETA: 0s - loss: 1.6499\n",
      "Epoch 00014: val_loss improved from 2.09799 to 1.99585, saving model to model2.h5\n",
      "40/40 [==============================] - 3s 78ms/step - loss: 1.6499 - val_loss: 1.9959\n",
      "Epoch 15/50\n",
      "40/40 [==============================] - ETA: 0s - loss: 1.5418\n",
      "Epoch 00015: val_loss improved from 1.99585 to 1.93829, saving model to model2.h5\n",
      "40/40 [==============================] - 3s 77ms/step - loss: 1.5418 - val_loss: 1.9383\n",
      "Epoch 16/50\n",
      "40/40 [==============================] - ETA: 0s - loss: 1.4499\n",
      "Epoch 00016: val_loss improved from 1.93829 to 1.88746, saving model to model2.h5\n",
      "40/40 [==============================] - 3s 79ms/step - loss: 1.4499 - val_loss: 1.8875\n",
      "Epoch 17/50\n",
      "40/40 [==============================] - ETA: 0s - loss: 1.3535\n",
      "Epoch 00017: val_loss improved from 1.88746 to 1.83412, saving model to model2.h5\n",
      "40/40 [==============================] - 3s 77ms/step - loss: 1.3535 - val_loss: 1.8341\n",
      "Epoch 18/50\n",
      "40/40 [==============================] - ETA: 0s - loss: 1.2668\n",
      "Epoch 00018: val_loss improved from 1.83412 to 1.78067, saving model to model2.h5\n",
      "40/40 [==============================] - 3s 79ms/step - loss: 1.2668 - val_loss: 1.7807\n",
      "Epoch 19/50\n",
      "40/40 [==============================] - ETA: 0s - loss: 1.1818\n",
      "Epoch 00019: val_loss improved from 1.78067 to 1.72414, saving model to model2.h5\n",
      "40/40 [==============================] - 3s 78ms/step - loss: 1.1818 - val_loss: 1.7241\n",
      "Epoch 20/50\n",
      "40/40 [==============================] - ETA: 0s - loss: 1.1065\n",
      "Epoch 00020: val_loss improved from 1.72414 to 1.69805, saving model to model2.h5\n",
      "40/40 [==============================] - 3s 80ms/step - loss: 1.1065 - val_loss: 1.6980\n",
      "Epoch 21/50\n",
      "40/40 [==============================] - ETA: 0s - loss: 1.0259\n",
      "Epoch 00021: val_loss improved from 1.69805 to 1.65131, saving model to model2.h5\n",
      "40/40 [==============================] - 3s 78ms/step - loss: 1.0259 - val_loss: 1.6513\n",
      "Epoch 22/50\n",
      "40/40 [==============================] - ETA: 0s - loss: 0.9607\n",
      "Epoch 00022: val_loss improved from 1.65131 to 1.61189, saving model to model2.h5\n",
      "40/40 [==============================] - 3s 79ms/step - loss: 0.9607 - val_loss: 1.6119\n",
      "Epoch 23/50\n",
      "39/40 [============================>.] - ETA: 0s - loss: 0.8886\n",
      "Epoch 00023: val_loss improved from 1.61189 to 1.56783, saving model to model2.h5\n",
      "40/40 [==============================] - 3s 77ms/step - loss: 0.8891 - val_loss: 1.5678\n",
      "Epoch 24/50\n",
      "40/40 [==============================] - ETA: 0s - loss: 0.8257\n",
      "Epoch 00024: val_loss improved from 1.56783 to 1.54305, saving model to model2.h5\n",
      "40/40 [==============================] - 3s 80ms/step - loss: 0.8257 - val_loss: 1.5430\n",
      "Epoch 25/50\n",
      "40/40 [==============================] - ETA: 0s - loss: 0.7653\n",
      "Epoch 00025: val_loss improved from 1.54305 to 1.50197, saving model to model2.h5\n",
      "40/40 [==============================] - 3s 77ms/step - loss: 0.7653 - val_loss: 1.5020\n",
      "Epoch 26/50\n",
      "40/40 [==============================] - ETA: 0s - loss: 0.7079\n",
      "Epoch 00026: val_loss improved from 1.50197 to 1.48234, saving model to model2.h5\n",
      "40/40 [==============================] - 3s 82ms/step - loss: 0.7079 - val_loss: 1.4823\n",
      "Epoch 27/50\n",
      "40/40 [==============================] - ETA: 0s - loss: 0.6506\n",
      "Epoch 00027: val_loss improved from 1.48234 to 1.44876, saving model to model2.h5\n",
      "40/40 [==============================] - 3s 78ms/step - loss: 0.6506 - val_loss: 1.4488\n",
      "Epoch 28/50\n",
      "39/40 [============================>.] - ETA: 0s - loss: 0.5981\n",
      "Epoch 00028: val_loss improved from 1.44876 to 1.44264, saving model to model2.h5\n",
      "40/40 [==============================] - 3s 79ms/step - loss: 0.5980 - val_loss: 1.4426\n",
      "Epoch 29/50\n",
      "40/40 [==============================] - ETA: 0s - loss: 0.5512\n",
      "Epoch 00029: val_loss improved from 1.44264 to 1.40962, saving model to model2.h5\n",
      "40/40 [==============================] - 3s 77ms/step - loss: 0.5512 - val_loss: 1.4096\n",
      "Epoch 30/50\n",
      "40/40 [==============================] - ETA: 0s - loss: 0.5054\n",
      "Epoch 00030: val_loss improved from 1.40962 to 1.38465, saving model to model2.h5\n",
      "40/40 [==============================] - 3s 80ms/step - loss: 0.5054 - val_loss: 1.3847\n",
      "Epoch 31/50\n",
      "40/40 [==============================] - ETA: 0s - loss: 0.4624\n",
      "Epoch 00031: val_loss improved from 1.38465 to 1.38368, saving model to model2.h5\n",
      "40/40 [==============================] - 3s 77ms/step - loss: 0.4624 - val_loss: 1.3837\n",
      "Epoch 32/50\n",
      "40/40 [==============================] - ETA: 0s - loss: 0.4202\n",
      "Epoch 00032: val_loss improved from 1.38368 to 1.36839, saving model to model2.h5\n",
      "40/40 [==============================] - 3s 80ms/step - loss: 0.4202 - val_loss: 1.3684\n",
      "Epoch 33/50\n",
      "40/40 [==============================] - ETA: 0s - loss: 0.3800\n",
      "Epoch 00033: val_loss did not improve from 1.36839\n",
      "40/40 [==============================] - 3s 72ms/step - loss: 0.3800 - val_loss: 1.4246\n",
      "Epoch 34/50\n",
      "40/40 [==============================] - ETA: 0s - loss: 0.3477\n",
      "Epoch 00034: val_loss improved from 1.36839 to 1.32880, saving model to model2.h5\n",
      "40/40 [==============================] - 3s 77ms/step - loss: 0.3477 - val_loss: 1.3288\n",
      "Epoch 35/50\n",
      "40/40 [==============================] - ETA: 0s - loss: 0.3167\n",
      "Epoch 00035: val_loss improved from 1.32880 to 1.31420, saving model to model2.h5\n",
      "40/40 [==============================] - 3s 79ms/step - loss: 0.3167 - val_loss: 1.3142\n",
      "Epoch 36/50\n",
      "40/40 [==============================] - ETA: 0s - loss: 0.2807\n",
      "Epoch 00036: val_loss did not improve from 1.31420\n",
      "40/40 [==============================] - 3s 71ms/step - loss: 0.2807 - val_loss: 1.3161\n",
      "Epoch 37/50\n",
      "40/40 [==============================] - ETA: 0s - loss: 0.2579\n",
      "Epoch 00037: val_loss improved from 1.31420 to 1.30405, saving model to model2.h5\n",
      "40/40 [==============================] - 3s 78ms/step - loss: 0.2579 - val_loss: 1.3041\n",
      "Epoch 38/50\n",
      "40/40 [==============================] - ETA: 0s - loss: 0.2298\n",
      "Epoch 00038: val_loss improved from 1.30405 to 1.30187, saving model to model2.h5\n",
      "40/40 [==============================] - 3s 80ms/step - loss: 0.2298 - val_loss: 1.3019\n",
      "Epoch 39/50\n",
      "40/40 [==============================] - ETA: 0s - loss: 0.2064\n",
      "Epoch 00039: val_loss improved from 1.30187 to 1.29301, saving model to model2.h5\n",
      "40/40 [==============================] - 3s 77ms/step - loss: 0.2064 - val_loss: 1.2930\n",
      "Epoch 40/50\n",
      "40/40 [==============================] - ETA: 0s - loss: 0.1887\n",
      "Epoch 00040: val_loss improved from 1.29301 to 1.27488, saving model to model2.h5\n",
      "40/40 [==============================] - 3s 78ms/step - loss: 0.1887 - val_loss: 1.2749\n",
      "Epoch 41/50\n",
      "39/40 [============================>.] - ETA: 0s - loss: 0.1644\n",
      "Epoch 00041: val_loss did not improve from 1.27488\n",
      "40/40 [==============================] - 3s 74ms/step - loss: 0.1649 - val_loss: 1.2898\n",
      "Epoch 42/50\n",
      "40/40 [==============================] - ETA: 0s - loss: 0.1484\n",
      "Epoch 00042: val_loss did not improve from 1.27488\n",
      "40/40 [==============================] - 3s 72ms/step - loss: 0.1484 - val_loss: 1.2842\n",
      "Epoch 43/50\n",
      "40/40 [==============================] - ETA: 0s - loss: 0.1343\n",
      "Epoch 00043: val_loss did not improve from 1.27488\n",
      "40/40 [==============================] - 3s 72ms/step - loss: 0.1343 - val_loss: 1.2868\n",
      "Epoch 44/50\n",
      "40/40 [==============================] - ETA: 0s - loss: 0.1217\n",
      "Epoch 00044: val_loss did not improve from 1.27488\n",
      "40/40 [==============================] - 3s 72ms/step - loss: 0.1217 - val_loss: 1.2772\n",
      "Epoch 45/50\n",
      "40/40 [==============================] - ETA: 0s - loss: 0.1069\n",
      "Epoch 00045: val_loss did not improve from 1.27488\n",
      "40/40 [==============================] - 3s 73ms/step - loss: 0.1069 - val_loss: 1.3230\n",
      "Epoch 46/50\n",
      "40/40 [==============================] - ETA: 0s - loss: 0.1008\n",
      "Epoch 00046: val_loss improved from 1.27488 to 1.27385, saving model to model2.h5\n",
      "40/40 [==============================] - 3s 77ms/step - loss: 0.1008 - val_loss: 1.2738\n",
      "Epoch 47/50\n",
      "40/40 [==============================] - ETA: 0s - loss: 0.0856\n",
      "Epoch 00047: val_loss did not improve from 1.27385\n",
      "40/40 [==============================] - 3s 75ms/step - loss: 0.0856 - val_loss: 1.2925\n",
      "Epoch 48/50\n",
      "40/40 [==============================] - ETA: 0s - loss: 0.0826\n",
      "Epoch 00048: val_loss did not improve from 1.27385\n",
      "40/40 [==============================] - 3s 74ms/step - loss: 0.0826 - val_loss: 1.2881\n",
      "Epoch 49/50\n",
      "40/40 [==============================] - ETA: 0s - loss: 0.0743\n",
      "Epoch 00049: val_loss did not improve from 1.27385\n",
      "40/40 [==============================] - 3s 73ms/step - loss: 0.0743 - val_loss: 1.2835\n",
      "Epoch 50/50\n",
      "40/40 [==============================] - ETA: 0s - loss: 0.0679\n",
      "Epoch 00050: val_loss did not improve from 1.27385\n",
      "40/40 [==============================] - 3s 72ms/step - loss: 0.0679 - val_loss: 1.2979\n"
     ]
    }
   ],
   "source": [
    "filename = 'model2.h5'\n",
    "checkpoint = ModelCheckpoint(filename, monitor='val_loss', verbose=1, save_best_only=True, mode='min')\n",
    "\n",
    "history1 = model2.fit(trainX2, trainY2.reshape(trainY2.shape[0], trainY2.shape[1], 1),\n",
    "                    epochs=50, batch_size=512, validation_split = 0.1,callbacks=[checkpoint], \n",
    "                    verbose=1)"
   ]
  },
  {
   "cell_type": "code",
   "execution_count": 67,
   "metadata": {
    "colab": {
     "base_uri": "https://localhost:8080/",
     "height": 265
    },
    "colab_type": "code",
    "id": "FiMOJJXwBo1H",
    "outputId": "8e0c92dd-8ad1-41e6-cbdb-bedb62002a50"
   },
   "outputs": [
    {
     "data": {
      "image/png": "[encoded data removed]",
      "text/plain": [
       "<Figure size 432x288 with 1 Axes>"
      ]
     },
     "metadata": {
      "needs_background": "light",
      "tags": []
     },
     "output_type": "display_data"
    }
   ],
   "source": [
    "plt.plot(history1.history['loss'])\n",
    "plt.plot(history1.history['val_loss'])\n",
    "plt.legend(['train','validation'])\n",
    "plt.show()"
   ]
  },
  {
   "cell_type": "code",
   "execution_count": 0,
   "metadata": {
    "colab": {},
    "colab_type": "code",
    "id": "N3RN-Ri4Hci3"
   },
   "outputs": [],
   "source": [
    "model2 = load_model('model2.h5')\n",
    "preds1 = model2.predict_classes(testX2.reshape((testX2.shape[0],testX2.shape[1])))"
   ]
  },
  {
   "cell_type": "code",
   "execution_count": 0,
   "metadata": {
    "colab": {},
    "colab_type": "code",
    "id": "4i8eMYklHuNc"
   },
   "outputs": [],
   "source": [
    "preds_text2 = []\n",
    "for i in preds1:\n",
    "       temp = []\n",
    "       for j in range(len(i)):\n",
    "            t = get_word(i[j], eng_tokenizer)\n",
    "            if j > 0:\n",
    "                if (t == get_word(i[j-1], eng_tokenizer)) or (t == None):\n",
    "                     temp.append('')\n",
    "                else:\n",
    "                     temp.append(t)\n",
    "            else:\n",
    "                   if(t == None):\n",
    "                          temp.append('')\n",
    "                   else:\n",
    "                          temp.append(t) \n",
    "\n",
    "       preds_text2.append(' '.join(temp))"
   ]
  },
  {
   "cell_type": "code",
   "execution_count": 0,
   "metadata": {
    "colab": {},
    "colab_type": "code",
    "id": "Ykejt53rIriq"
   },
   "outputs": [],
   "source": [
    "pred_df2 = pd.DataFrame({'Marathi': test1[:,1], 'Actual' : test1[:,0], 'Predicted' : preds_text2})"
   ]
  },
  {
   "cell_type": "code",
   "execution_count": 71,
   "metadata": {
    "colab": {
     "base_uri": "https://localhost:8080/",
     "height": 355
    },
    "colab_type": "code",
    "id": "o1YKjh3CI9Se",
    "outputId": "de848968-4970-4a12-9726-fb353e4e2595"
   },
   "outputs": [
    {
     "data": {
      "text/html": [
       "<div>\n",
       "<style scoped>\n",
       "    .dataframe tbody tr th:only-of-type {\n",
       "        vertical-align: middle;\n",
       "    }\n",
       "\n",
       "    .dataframe tbody tr th {\n",
       "        vertical-align: top;\n",
       "    }\n",
       "\n",
       "    .dataframe thead th {\n",
       "        text-align: right;\n",
       "    }\n",
       "</style>\n",
       "<table border=\"1\" class=\"dataframe\">\n",
       "  <thead>\n",
       "    <tr style=\"text-align: right;\">\n",
       "      <th></th>\n",
       "      <th>Marathi</th>\n",
       "      <th>Actual</th>\n",
       "      <th>Predicted</th>\n",
       "    </tr>\n",
       "  </thead>\n",
       "  <tbody>\n",
       "    <tr>\n",
       "      <th>1043</th>\n",
       "      <td>मी टॉमला दररोज बघतो</td>\n",
       "      <td>i see tom every day</td>\n",
       "      <td>i see tom every day</td>\n",
       "    </tr>\n",
       "    <tr>\n",
       "      <th>198</th>\n",
       "      <td>त्या खरेदी करायला गेल्या</td>\n",
       "      <td>she went shopping</td>\n",
       "      <td>she went shopping</td>\n",
       "    </tr>\n",
       "    <tr>\n",
       "      <th>1419</th>\n",
       "      <td>त्याला मला फोन करायला सांग</td>\n",
       "      <td>tell him to call me</td>\n",
       "      <td>tell him to call me</td>\n",
       "    </tr>\n",
       "    <tr>\n",
       "      <th>1922</th>\n",
       "      <td>स्वतः करून पाहा</td>\n",
       "      <td>try it out yourself</td>\n",
       "      <td>that happened chess</td>\n",
       "    </tr>\n",
       "    <tr>\n",
       "      <th>1960</th>\n",
       "      <td>त्याला टेनिस खेळायला आवडतो</td>\n",
       "      <td>he likes to play tennis</td>\n",
       "      <td>he likes to play tennis</td>\n",
       "    </tr>\n",
       "    <tr>\n",
       "      <th>2019</th>\n",
       "      <td>आता सर्वांनाच माहीत आहे</td>\n",
       "      <td>everyone knows it now</td>\n",
       "      <td>everyone knows it</td>\n",
       "    </tr>\n",
       "    <tr>\n",
       "      <th>1018</th>\n",
       "      <td>मी दररोज शाळेत जाते</td>\n",
       "      <td>i go to school every day</td>\n",
       "      <td>i go to school every day</td>\n",
       "    </tr>\n",
       "    <tr>\n",
       "      <th>1919</th>\n",
       "      <td>तू इथे एकटा होतास का</td>\n",
       "      <td>were you here alone</td>\n",
       "      <td>were you here alone</td>\n",
       "    </tr>\n",
       "    <tr>\n",
       "      <th>334</th>\n",
       "      <td>तो पिआनो महागडा आहे</td>\n",
       "      <td>the piano is expensive</td>\n",
       "      <td>he is by the him</td>\n",
       "    </tr>\n",
       "    <tr>\n",
       "      <th>1266</th>\n",
       "      <td>मरशील</td>\n",
       "      <td>you will die</td>\n",
       "      <td>they will die</td>\n",
       "    </tr>\n",
       "  </tbody>\n",
       "</table>\n",
       "</div>"
      ],
      "text/plain": [
       "                         Marathi  ...                   Predicted\n",
       "1043         मी टॉमला दररोज बघतो  ...      i see tom every day   \n",
       "198     त्या खरेदी करायला गेल्या  ...      she went shopping     \n",
       "1419  त्याला मला फोन करायला सांग  ...      tell him to call me   \n",
       "1922             स्वतः करून पाहा  ...    that happened chess     \n",
       "1960  त्याला टेनिस खेळायला आवडतो  ...  he likes to play tennis   \n",
       "2019     आता सर्वांनाच माहीत आहे  ...      everyone knows it     \n",
       "1018         मी दररोज शाळेत जाते  ...  i go to school every day  \n",
       "1919        तू इथे एकटा होतास का  ...     were you here alone    \n",
       "334          तो पिआनो महागडा आहे  ...         he is by the him   \n",
       "1266                       मरशील  ...          they will die     \n",
       "\n",
       "[10 rows x 3 columns]"
      ]
     },
     "execution_count": 71,
     "metadata": {
      "tags": []
     },
     "output_type": "execute_result"
    }
   ],
   "source": [
    "pred_df2.sample(10)"
   ]
  },
  {
   "cell_type": "code",
   "execution_count": 0,
   "metadata": {
    "colab": {},
    "colab_type": "code",
    "id": "Dzd5nwTSJI0v"
   },
   "outputs": [],
   "source": []
  }
 ],
 "metadata": {
  "accelerator": "GPU",
  "colab": {
   "collapsed_sections": [],
   "name": "Mar2Eng.ipynb",
   "provenance": []
  },
  "kernelspec": {
   "display_name": "Python 3",
   "language": "python",
   "name": "python3"
  },
  "language_info": {
   "codemirror_mode": {
    "name": "ipython",
    "version": 3
   },
   "file_extension": ".py",
   "mimetype": "text/x-python",
   "name": "python",
   "nbconvert_exporter": "python",
   "pygments_lexer": "ipython3",
   "version": "3.7.6"
  }
 },
 "nbformat": 4,
 "nbformat_minor": 1
}
